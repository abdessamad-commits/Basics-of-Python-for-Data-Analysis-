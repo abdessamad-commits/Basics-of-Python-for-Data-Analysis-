{
 "cells": [
  {
   "cell_type": "markdown",
   "metadata": {},
   "source": [
    "# Pandas\n",
    "\"pandas is a software library written for the Python programming language for data manipulation and analysis. In particular, it offers data structures and operations for manipulating numerical tables and time series.\" Wikipedia"
   ]
  },
  {
   "cell_type": "code",
   "execution_count": 15,
   "metadata": {},
   "outputs": [],
   "source": [
    "#we import numpy and pandas\n",
    "import numpy as np\n",
    "import pandas as pd"
   ]
  },
  {
   "cell_type": "markdown",
   "metadata": {},
   "source": [
    "# Series\n",
    "we can see a pandas serie as a sort of One dimensional array with labels"
   ]
  },
  {
   "cell_type": "code",
   "execution_count": 16,
   "metadata": {},
   "outputs": [],
   "source": [
    "indexes = [1,2,3]\n",
    "data = np.array([\"abdessamad\",\"youssef\",\"nabil\"])"
   ]
  },
  {
   "cell_type": "code",
   "execution_count": 17,
   "metadata": {},
   "outputs": [
    {
     "data": {
      "text/plain": [
       "0    abdessamad\n",
       "1       youssef\n",
       "2         nabil\n",
       "dtype: object"
      ]
     },
     "execution_count": 17,
     "metadata": {},
     "output_type": "execute_result"
    }
   ],
   "source": [
    "#let's create a pandas serie based on our numpy array\n",
    "serie_1 = pd.Series(data)\n",
    "serie_1"
   ]
  },
  {
   "cell_type": "code",
   "execution_count": 18,
   "metadata": {},
   "outputs": [
    {
     "name": "stdout",
     "output_type": "stream",
     "text": [
      "abdessamad youssef nabil\n"
     ]
    }
   ],
   "source": [
    "#let's retrieve values from the serie based on indexes\n",
    "print(serie_1[0],serie_1[1],serie_1[2])"
   ]
  },
  {
   "cell_type": "code",
   "execution_count": 19,
   "metadata": {},
   "outputs": [
    {
     "data": {
      "text/plain": [
       "1    abdessamad\n",
       "2       youssef\n",
       "3         nabil\n",
       "dtype: object"
      ]
     },
     "execution_count": 19,
     "metadata": {},
     "output_type": "execute_result"
    }
   ],
   "source": [
    "#let's create a pandas serie based on our numpy array and by adding the parameter indexes \n",
    "serie_2 = pd.Series(data,index=indexes)\n",
    "serie_2"
   ]
  },
  {
   "cell_type": "code",
   "execution_count": 20,
   "metadata": {},
   "outputs": [
    {
     "data": {
      "text/plain": [
       "One      abdessamad\n",
       "Two         youssef\n",
       "Three         nabil\n",
       "dtype: object"
      ]
     },
     "execution_count": 20,
     "metadata": {},
     "output_type": "execute_result"
    }
   ],
   "source": [
    "#we can also create a pandas serie based on a dictionnary and we get the same result\n",
    "dico = {\"One\":\"abdessamad\",\"Two\":\"youssef\",\"Three\":\"nabil\"}\n",
    "serie_3 = pd.Series(dico)\n",
    "serie_3"
   ]
  },
  {
   "cell_type": "code",
   "execution_count": 21,
   "metadata": {},
   "outputs": [
    {
     "data": {
      "text/plain": [
       "('abdessamad', 'youssef', 'nabil')"
      ]
     },
     "execution_count": 21,
     "metadata": {},
     "output_type": "execute_result"
    }
   ],
   "source": [
    "#let's retrieve values from the serie based on the indexes we chose\n",
    "serie_3[\"One\"],serie_3[\"Two\"],serie_3[\"Three\"]"
   ]
  },
  {
   "cell_type": "code",
   "execution_count": 22,
   "metadata": {},
   "outputs": [
    {
     "data": {
      "text/plain": [
       "0    1\n",
       "1    2\n",
       "2    3\n",
       "dtype: int64"
      ]
     },
     "execution_count": 22,
     "metadata": {},
     "output_type": "execute_result"
    }
   ],
   "source": [
    "# a series can hold any type of data \n",
    "pd.Series(data=indexes)"
   ]
  },
  {
   "cell_type": "code",
   "execution_count": 23,
   "metadata": {},
   "outputs": [
    {
     "data": {
      "text/plain": [
       "0    <built-in function min>\n",
       "1    <built-in function max>\n",
       "dtype: object"
      ]
     },
     "execution_count": 23,
     "metadata": {},
     "output_type": "execute_result"
    }
   ],
   "source": [
    "#we can even pass in built in function \n",
    "pd.Series(data=[min,max])"
   ]
  },
  {
   "cell_type": "code",
   "execution_count": 24,
   "metadata": {},
   "outputs": [
    {
     "data": {
      "text/plain": [
       "abdessamad    9\n",
       "youssef       7\n",
       "nabil         6\n",
       "dtype: int64"
      ]
     },
     "execution_count": 24,
     "metadata": {},
     "output_type": "execute_result"
    }
   ],
   "source": [
    "#we create a pandas serie containning marks of the first part of an exam,as we we can see in the parameters the order does not matter if we specify the name of the parameter\n",
    "marks_first_part_exam = pd.Series(index=[\"abdessamad\",\"youssef\",\"nabil\"],data=[9,7,6])\n",
    "marks_first_part_exam"
   ]
  },
  {
   "cell_type": "code",
   "execution_count": 25,
   "metadata": {},
   "outputs": [
    {
     "data": {
      "text/plain": [
       "abdessamad    9\n",
       "youssef       5\n",
       "driss         9\n",
       "dtype: int64"
      ]
     },
     "execution_count": 25,
     "metadata": {},
     "output_type": "execute_result"
    }
   ],
   "source": [
    "#we create a pandas serie containning marks of the second part of an exam,we dont have to name the parameters but the order will matter if we do so\n",
    "marks_second_part_exam = pd.Series([9,5,9],[\"abdessamad\",\"youssef\",\"driss\"])\n",
    "marks_second_part_exam"
   ]
  },
  {
   "cell_type": "code",
   "execution_count": 27,
   "metadata": {},
   "outputs": [
    {
     "data": {
      "text/plain": [
       "abdessamad    18.0\n",
       "driss          NaN\n",
       "nabil          NaN\n",
       "youssef       12.0\n",
       "dtype: float64"
      ]
     },
     "execution_count": 27,
     "metadata": {},
     "output_type": "execute_result"
    }
   ],
   "source": [
    "#we can see when an index is present in both pandas series we just add the value corresponding to that index,but if an index is present in one serie and not in the other serie we get a nan value \n",
    "marks_first_part_exam + marks_second_part_exam"
   ]
  },
  {
   "cell_type": "markdown",
   "metadata": {},
   "source": [
    "# DataFrame\n",
    "we can see dataframes as two dimensional labaled arrays "
   ]
  },
  {
   "cell_type": "code",
   "execution_count": 31,
   "metadata": {},
   "outputs": [
    {
     "name": "stdout",
     "output_type": "stream",
     "text": [
      "            advanced Liner algebra  statistics  probability  Data analysis\n",
      "abdessamad                      13          12           17             17\n",
      "youssef                         13          14           12             13\n",
      "taha                            13          17           16             13\n",
      "nabil                           16          15           16             17 \n",
      "\n",
      "<class 'pandas.core.frame.DataFrame'>\n"
     ]
    }
   ],
   "source": [
    "data_frame = pd.DataFrame(data=np.random.randint(12,18,(4,4)),columns=[\"advanced Liner algebra\",\"statistics\",\"probability\",\"Data analysis\"],index=[\"abdessamad\",\"youssef\",\"taha\",\"nabil\"])\n",
    "print(data_frame,\"\\n\\n\"+str(type(data_frame)))"
   ]
  },
  {
   "cell_type": "code",
   "execution_count": 106,
   "metadata": {},
   "outputs": [
    {
     "name": "stdout",
     "output_type": "stream",
     "text": [
      "abdessamad    15\n",
      "youssef       12\n",
      "taha          14\n",
      "nabil         14\n",
      "Name: advanced Liner algebra, dtype: int64 \n",
      "\n",
      "<class 'pandas.core.series.Series'>\n"
     ]
    }
   ],
   "source": [
    "#each column of the dataframe is a pandas serie\n",
    "serie1 = data_frame[\"advanced Liner algebra\"]\n",
    "print(serie1,\"\\n\\n\"+str(type(serie1)))"
   ]
  },
  {
   "cell_type": "code",
   "execution_count": 108,
   "metadata": {},
   "outputs": [
    {
     "name": "stdout",
     "output_type": "stream",
     "text": [
      "            advanced Liner algebra  statistics\n",
      "abdessamad                      15          16\n",
      "youssef                         12          13\n",
      "taha                            14          17\n",
      "nabil                           14          14 \n",
      "\n",
      "<class 'pandas.core.frame.DataFrame'>\n"
     ]
    }
   ],
   "source": [
    "#let's get multiple columns by passing on a list of the labels of colums,once we retrieve more than one column we will get a pandas dataframe and not a serie \n",
    "print(data_frame[[\"advanced Liner algebra\",\"statistics\"]],\"\\n\\n\"+str(type(data_frame[[\"advanced Liner algebra\",\"statistics\"]])))\n",
    "\n"
   ]
  },
  {
   "cell_type": "code",
   "execution_count": 109,
   "metadata": {},
   "outputs": [
    {
     "name": "stdout",
     "output_type": "stream",
     "text": [
      "            advanced Liner algebra  statistics  probability  Data analysis  ML\n",
      "abdessamad                      15          16           14             17  11\n",
      "youssef                         12          13           14             12  17\n",
      "taha                            14          17           13             16  11\n",
      "nabil                           14          14           12             16  17\n"
     ]
    }
   ],
   "source": [
    "#let's add some columns to our dataframe\n",
    "data_frame[\"ML\"] = np.random.randint(10,18,4)\n",
    "print(data_frame)"
   ]
  },
  {
   "cell_type": "code",
   "execution_count": 110,
   "metadata": {},
   "outputs": [
    {
     "name": "stdout",
     "output_type": "stream",
     "text": [
      "            advanced Liner algebra  statistics  probability  Data analysis\n",
      "abdessamad                      15          16           14             17\n",
      "youssef                         12          13           14             12\n",
      "taha                            14          17           13             16\n",
      "nabil                           14          14           12             16\n"
     ]
    }
   ],
   "source": [
    "#now let's remove a column,axis=1 allows us to tell pandas that \"saad\" is present on the columns,inplace=True allows us to modify the dataframe permanently\n",
    "data_frame.drop(\"ML\",axis=1,inplace=True)\n",
    "print(data_frame)"
   ]
  },
  {
   "cell_type": "code",
   "execution_count": 111,
   "metadata": {},
   "outputs": [
    {
     "data": {
      "text/plain": [
       "advanced Liner algebra    15\n",
       "statistics                16\n",
       "probability               14\n",
       "Data analysis             17\n",
       "Name: abdessamad, dtype: int64"
      ]
     },
     "execution_count": 111,
     "metadata": {},
     "output_type": "execute_result"
    }
   ],
   "source": [
    "#let's select rows from our dataframe,the loc method allows us to retrieve rows and columns by label\n",
    "data_frame.loc[\"abdessamad\"]"
   ]
  },
  {
   "cell_type": "code",
   "execution_count": 132,
   "metadata": {},
   "outputs": [
    {
     "name": "stdout",
     "output_type": "stream",
     "text": [
      "advanced Liner algebra    15\n",
      "statistics                16\n",
      "probability               14\n",
      "Data analysis             17\n",
      "Name: abdessamad, dtype: int64 \n",
      "\n",
      "<class 'pandas.core.series.Series'>\n"
     ]
    }
   ],
   "source": [
    "#now we select rows using the iloc method,wich is based on the location and not a label\n",
    "print(data_frame.iloc[0],\"\\n\\n\"+str(type(data_frame.iloc[0])))"
   ]
  },
  {
   "cell_type": "code",
   "execution_count": 117,
   "metadata": {},
   "outputs": [
    {
     "name": "stdout",
     "output_type": "stream",
     "text": [
      "            advanced Liner algebra  statistics  probability  Data analysis\n",
      "abdessamad                      15          16           14             17\n",
      "nabil                           14          14           12             16\n"
     ]
    }
   ],
   "source": [
    "#we select multiple rows by passing the labels in a list\n",
    "print(data_frame.loc[[\"abdessamad\",\"nabil\"]])"
   ]
  },
  {
   "cell_type": "code",
   "execution_count": 118,
   "metadata": {},
   "outputs": [
    {
     "name": "stdout",
     "output_type": "stream",
     "text": [
      "            advanced Liner algebra  statistics  probability  Data analysis\n",
      "abdessamad                      15          16           14             17\n",
      "youssef                         12          13           14             12\n"
     ]
    }
   ],
   "source": [
    "#we select multiple rows by passing a list integers corresponding to the location of the row \n",
    "print(data_frame.iloc[[0,1]])"
   ]
  },
  {
   "cell_type": "code",
   "execution_count": 125,
   "metadata": {},
   "outputs": [
    {
     "name": "stdout",
     "output_type": "stream",
     "text": [
      "            advanced Liner algebra  statistics  probability  Data analysis\n",
      "abdessamad                      15          16           14             17\n",
      "youssef                         12          13           14             12\n",
      "taha                            14          17           13             16\n",
      "nabil                           14          14           12             16\n",
      "saad                            14          17           14             13\n"
     ]
    }
   ],
   "source": [
    "#let's add a new row to our dataframe\n",
    "data_frame.loc[\"saad\"] = np.random.randint(10,18,4)\n",
    "print(data_frame)"
   ]
  },
  {
   "cell_type": "code",
   "execution_count": 126,
   "metadata": {},
   "outputs": [
    {
     "name": "stdout",
     "output_type": "stream",
     "text": [
      "            advanced Liner algebra  statistics  probability  Data analysis\n",
      "abdessamad                      15          16           14             17\n",
      "youssef                         12          13           14             12\n",
      "taha                            14          17           13             16\n",
      "nabil                           14          14           12             16\n"
     ]
    }
   ],
   "source": [
    "#now let's drop a row from our pandas dataframe,axis=0 allows us to specify that we want to delete a row and inplace allows us to make a permanent delete in our dataframe\n",
    "data_frame.drop(\"saad\",axis=0,inplace=True)\n",
    "print(data_frame)"
   ]
  },
  {
   "cell_type": "code",
   "execution_count": 144,
   "metadata": {},
   "outputs": [
    {
     "name": "stdout",
     "output_type": "stream",
     "text": [
      "       statistics  probability\n",
      "nabil          14           12\n",
      "taha           17           13\n"
     ]
    }
   ],
   "source": [
    "#let's look on how we can subset rows and columns\n",
    "#first method ,label based\n",
    "print(data_frame.loc[[\"nabil\",\"taha\"] ,[\"statistics\",\"probability\"]])"
   ]
  },
  {
   "cell_type": "code",
   "execution_count": 148,
   "metadata": {},
   "outputs": [
    {
     "name": "stdout",
     "output_type": "stream",
     "text": [
      "       statistics  Data analysis\n",
      "taha           17             16\n",
      "nabil          14             16\n"
     ]
    }
   ],
   "source": [
    "#second methid ,index based\n",
    "print(data_frame.iloc[[2,3],[1,3]])"
   ]
  },
  {
   "cell_type": "code",
   "execution_count": 149,
   "metadata": {},
   "outputs": [],
   "source": [
    "#new we will look at conditional selection"
   ]
  },
  {
   "cell_type": "code",
   "execution_count": null,
   "metadata": {},
   "outputs": [],
   "source": [
    "marks = data_frame\n",
    "marks[\"ML\"] = np.random.randint(10,20,4)\n",
    "marks.loc[\"saad\"] = np.random.randint(10,18,5)"
   ]
  },
  {
   "cell_type": "code",
   "execution_count": 157,
   "metadata": {},
   "outputs": [
    {
     "name": "stdout",
     "output_type": "stream",
     "text": [
      "            advanced Liner algebra  statistics  probability  Data analysis  ML\n",
      "abdessamad                      15          16           14             17  13\n",
      "youssef                         12          13           14             12  15\n",
      "taha                            14          17           13             16  16\n",
      "nabil                           14          14           12             16  18\n",
      "saad                            10          11           14             10  13\n"
     ]
    }
   ],
   "source": [
    "print(marks)"
   ]
  },
  {
   "cell_type": "code",
   "execution_count": 161,
   "metadata": {},
   "outputs": [
    {
     "data": {
      "text/html": [
       "<div>\n",
       "<style scoped>\n",
       "    .dataframe tbody tr th:only-of-type {\n",
       "        vertical-align: middle;\n",
       "    }\n",
       "\n",
       "    .dataframe tbody tr th {\n",
       "        vertical-align: top;\n",
       "    }\n",
       "\n",
       "    .dataframe thead th {\n",
       "        text-align: right;\n",
       "    }\n",
       "</style>\n",
       "<table border=\"1\" class=\"dataframe\">\n",
       "  <thead>\n",
       "    <tr style=\"text-align: right;\">\n",
       "      <th></th>\n",
       "      <th>advanced Liner algebra</th>\n",
       "      <th>statistics</th>\n",
       "      <th>probability</th>\n",
       "      <th>Data analysis</th>\n",
       "      <th>ML</th>\n",
       "    </tr>\n",
       "  </thead>\n",
       "  <tbody>\n",
       "    <tr>\n",
       "      <th>abdessamad</th>\n",
       "      <td>False</td>\n",
       "      <td>True</td>\n",
       "      <td>False</td>\n",
       "      <td>True</td>\n",
       "      <td>False</td>\n",
       "    </tr>\n",
       "    <tr>\n",
       "      <th>youssef</th>\n",
       "      <td>False</td>\n",
       "      <td>False</td>\n",
       "      <td>False</td>\n",
       "      <td>False</td>\n",
       "      <td>False</td>\n",
       "    </tr>\n",
       "    <tr>\n",
       "      <th>taha</th>\n",
       "      <td>False</td>\n",
       "      <td>True</td>\n",
       "      <td>False</td>\n",
       "      <td>True</td>\n",
       "      <td>True</td>\n",
       "    </tr>\n",
       "    <tr>\n",
       "      <th>nabil</th>\n",
       "      <td>False</td>\n",
       "      <td>False</td>\n",
       "      <td>False</td>\n",
       "      <td>True</td>\n",
       "      <td>True</td>\n",
       "    </tr>\n",
       "    <tr>\n",
       "      <th>saad</th>\n",
       "      <td>False</td>\n",
       "      <td>False</td>\n",
       "      <td>False</td>\n",
       "      <td>False</td>\n",
       "      <td>False</td>\n",
       "    </tr>\n",
       "  </tbody>\n",
       "</table>\n",
       "</div>"
      ],
      "text/plain": [
       "            advanced Liner algebra  statistics  probability  Data analysis  \\\n",
       "abdessamad                   False        True        False           True   \n",
       "youssef                      False       False        False          False   \n",
       "taha                         False        True        False           True   \n",
       "nabil                        False       False        False           True   \n",
       "saad                         False       False        False          False   \n",
       "\n",
       "               ML  \n",
       "abdessamad  False  \n",
       "youssef     False  \n",
       "taha         True  \n",
       "nabil        True  \n",
       "saad        False  "
      ]
     },
     "execution_count": 161,
     "metadata": {},
     "output_type": "execute_result"
    }
   ],
   "source": [
    "#let's look at that marks that are superior to 15,where we have true the mark is superior to 15\n",
    "marks>15"
   ]
  },
  {
   "cell_type": "code",
   "execution_count": 162,
   "metadata": {},
   "outputs": [
    {
     "data": {
      "text/html": [
       "<div>\n",
       "<style scoped>\n",
       "    .dataframe tbody tr th:only-of-type {\n",
       "        vertical-align: middle;\n",
       "    }\n",
       "\n",
       "    .dataframe tbody tr th {\n",
       "        vertical-align: top;\n",
       "    }\n",
       "\n",
       "    .dataframe thead th {\n",
       "        text-align: right;\n",
       "    }\n",
       "</style>\n",
       "<table border=\"1\" class=\"dataframe\">\n",
       "  <thead>\n",
       "    <tr style=\"text-align: right;\">\n",
       "      <th></th>\n",
       "      <th>advanced Liner algebra</th>\n",
       "      <th>statistics</th>\n",
       "      <th>probability</th>\n",
       "      <th>Data analysis</th>\n",
       "      <th>ML</th>\n",
       "    </tr>\n",
       "  </thead>\n",
       "  <tbody>\n",
       "    <tr>\n",
       "      <th>abdessamad</th>\n",
       "      <td>NaN</td>\n",
       "      <td>16.0</td>\n",
       "      <td>NaN</td>\n",
       "      <td>17.0</td>\n",
       "      <td>NaN</td>\n",
       "    </tr>\n",
       "    <tr>\n",
       "      <th>youssef</th>\n",
       "      <td>NaN</td>\n",
       "      <td>NaN</td>\n",
       "      <td>NaN</td>\n",
       "      <td>NaN</td>\n",
       "      <td>NaN</td>\n",
       "    </tr>\n",
       "    <tr>\n",
       "      <th>taha</th>\n",
       "      <td>NaN</td>\n",
       "      <td>17.0</td>\n",
       "      <td>NaN</td>\n",
       "      <td>16.0</td>\n",
       "      <td>16.0</td>\n",
       "    </tr>\n",
       "    <tr>\n",
       "      <th>nabil</th>\n",
       "      <td>NaN</td>\n",
       "      <td>NaN</td>\n",
       "      <td>NaN</td>\n",
       "      <td>16.0</td>\n",
       "      <td>18.0</td>\n",
       "    </tr>\n",
       "    <tr>\n",
       "      <th>saad</th>\n",
       "      <td>NaN</td>\n",
       "      <td>NaN</td>\n",
       "      <td>NaN</td>\n",
       "      <td>NaN</td>\n",
       "      <td>NaN</td>\n",
       "    </tr>\n",
       "  </tbody>\n",
       "</table>\n",
       "</div>"
      ],
      "text/plain": [
       "            advanced Liner algebra  statistics  probability  Data analysis  \\\n",
       "abdessamad                     NaN        16.0          NaN           17.0   \n",
       "youssef                        NaN         NaN          NaN            NaN   \n",
       "taha                           NaN        17.0          NaN           16.0   \n",
       "nabil                          NaN         NaN          NaN           16.0   \n",
       "saad                           NaN         NaN          NaN            NaN   \n",
       "\n",
       "              ML  \n",
       "abdessamad   NaN  \n",
       "youssef      NaN  \n",
       "taha        16.0  \n",
       "nabil       18.0  \n",
       "saad         NaN  "
      ]
     },
     "execution_count": 162,
     "metadata": {},
     "output_type": "execute_result"
    }
   ],
   "source": [
    "#we selected the marks that are superior to 15 \n",
    "marks[marks>15]"
   ]
  },
  {
   "cell_type": "code",
   "execution_count": 164,
   "metadata": {},
   "outputs": [
    {
     "data": {
      "text/plain": [
       "abdessamad     True\n",
       "youssef       False\n",
       "taha           True\n",
       "nabil         False\n",
       "saad          False\n",
       "Name: statistics, dtype: bool"
      ]
     },
     "execution_count": 164,
     "metadata": {},
     "output_type": "execute_result"
    }
   ],
   "source": [
    "#let's see the marks that are superior to 15 in the subject statistics ,we will only be filtring the subject of statistic\n",
    "marks[\"statistics\"]>15"
   ]
  },
  {
   "cell_type": "code",
   "execution_count": 167,
   "metadata": {},
   "outputs": [
    {
     "data": {
      "text/html": [
       "<div>\n",
       "<style scoped>\n",
       "    .dataframe tbody tr th:only-of-type {\n",
       "        vertical-align: middle;\n",
       "    }\n",
       "\n",
       "    .dataframe tbody tr th {\n",
       "        vertical-align: top;\n",
       "    }\n",
       "\n",
       "    .dataframe thead th {\n",
       "        text-align: right;\n",
       "    }\n",
       "</style>\n",
       "<table border=\"1\" class=\"dataframe\">\n",
       "  <thead>\n",
       "    <tr style=\"text-align: right;\">\n",
       "      <th></th>\n",
       "      <th>advanced Liner algebra</th>\n",
       "      <th>statistics</th>\n",
       "      <th>probability</th>\n",
       "      <th>Data analysis</th>\n",
       "      <th>ML</th>\n",
       "    </tr>\n",
       "  </thead>\n",
       "  <tbody>\n",
       "    <tr>\n",
       "      <th>abdessamad</th>\n",
       "      <td>15</td>\n",
       "      <td>16</td>\n",
       "      <td>14</td>\n",
       "      <td>17</td>\n",
       "      <td>13</td>\n",
       "    </tr>\n",
       "    <tr>\n",
       "      <th>taha</th>\n",
       "      <td>14</td>\n",
       "      <td>17</td>\n",
       "      <td>13</td>\n",
       "      <td>16</td>\n",
       "      <td>16</td>\n",
       "    </tr>\n",
       "  </tbody>\n",
       "</table>\n",
       "</div>"
      ],
      "text/plain": [
       "            advanced Liner algebra  statistics  probability  Data analysis  ML\n",
       "abdessamad                      15          16           14             17  13\n",
       "taha                            14          17           13             16  16"
      ]
     },
     "execution_count": 167,
     "metadata": {},
     "output_type": "execute_result"
    }
   ],
   "source": [
    "#we only get the students that got a mark superior to 15 in statistics\n",
    "marks[marks[\"statistics\"]>15]"
   ]
  },
  {
   "cell_type": "code",
   "execution_count": 168,
   "metadata": {},
   "outputs": [
    {
     "data": {
      "text/plain": [
       "abdessamad    16\n",
       "taha          17\n",
       "Name: statistics, dtype: int64"
      ]
     },
     "execution_count": 168,
     "metadata": {},
     "output_type": "execute_result"
    }
   ],
   "source": [
    "marks[marks[\"statistics\"]>15][\"statistics\"]"
   ]
  },
  {
   "cell_type": "code",
   "execution_count": 170,
   "metadata": {},
   "outputs": [
    {
     "data": {
      "text/html": [
       "<div>\n",
       "<style scoped>\n",
       "    .dataframe tbody tr th:only-of-type {\n",
       "        vertical-align: middle;\n",
       "    }\n",
       "\n",
       "    .dataframe tbody tr th {\n",
       "        vertical-align: top;\n",
       "    }\n",
       "\n",
       "    .dataframe thead th {\n",
       "        text-align: right;\n",
       "    }\n",
       "</style>\n",
       "<table border=\"1\" class=\"dataframe\">\n",
       "  <thead>\n",
       "    <tr style=\"text-align: right;\">\n",
       "      <th></th>\n",
       "      <th>statistics</th>\n",
       "      <th>probability</th>\n",
       "    </tr>\n",
       "  </thead>\n",
       "  <tbody>\n",
       "    <tr>\n",
       "      <th>abdessamad</th>\n",
       "      <td>16</td>\n",
       "      <td>14</td>\n",
       "    </tr>\n",
       "    <tr>\n",
       "      <th>taha</th>\n",
       "      <td>17</td>\n",
       "      <td>13</td>\n",
       "    </tr>\n",
       "  </tbody>\n",
       "</table>\n",
       "</div>"
      ],
      "text/plain": [
       "            statistics  probability\n",
       "abdessamad          16           14\n",
       "taha                17           13"
      ]
     },
     "execution_count": 170,
     "metadata": {},
     "output_type": "execute_result"
    }
   ],
   "source": [
    "marks[marks[\"statistics\"]>15][[\"statistics\",\"probability\"]]"
   ]
  },
  {
   "cell_type": "code",
   "execution_count": 172,
   "metadata": {},
   "outputs": [
    {
     "name": "stdout",
     "output_type": "stream",
     "text": [
      "            advanced Liner algebra  statistics  probability  Data analysis  ML\n",
      "abdessamad                      15          16           14             17  13\n",
      "youssef                         12          13           14             12  15\n",
      "taha                            14          17           13             16  16\n",
      "nabil                           14          14           12             16  18\n",
      "saad                            10          11           14             10  13\n"
     ]
    }
   ],
   "source": [
    "print(marks)"
   ]
  },
  {
   "cell_type": "code",
   "execution_count": 174,
   "metadata": {},
   "outputs": [
    {
     "data": {
      "text/html": [
       "<div>\n",
       "<style scoped>\n",
       "    .dataframe tbody tr th:only-of-type {\n",
       "        vertical-align: middle;\n",
       "    }\n",
       "\n",
       "    .dataframe tbody tr th {\n",
       "        vertical-align: top;\n",
       "    }\n",
       "\n",
       "    .dataframe thead th {\n",
       "        text-align: right;\n",
       "    }\n",
       "</style>\n",
       "<table border=\"1\" class=\"dataframe\">\n",
       "  <thead>\n",
       "    <tr style=\"text-align: right;\">\n",
       "      <th></th>\n",
       "      <th>advanced Liner algebra</th>\n",
       "      <th>statistics</th>\n",
       "      <th>probability</th>\n",
       "      <th>Data analysis</th>\n",
       "      <th>ML</th>\n",
       "    </tr>\n",
       "  </thead>\n",
       "  <tbody>\n",
       "    <tr>\n",
       "      <th>abdessamad</th>\n",
       "      <td>15</td>\n",
       "      <td>16</td>\n",
       "      <td>14</td>\n",
       "      <td>17</td>\n",
       "      <td>13</td>\n",
       "    </tr>\n",
       "  </tbody>\n",
       "</table>\n",
       "</div>"
      ],
      "text/plain": [
       "            advanced Liner algebra  statistics  probability  Data analysis  ML\n",
       "abdessamad                      15          16           14             17  13"
      ]
     },
     "execution_count": 174,
     "metadata": {},
     "output_type": "execute_result"
    }
   ],
   "source": [
    "#let's try to select student that are brilliant in both of statistics and probability \n",
    "marks[(marks[\"statistics\"]>13) & (marks[\"probability\"]>13)]"
   ]
  },
  {
   "cell_type": "code",
   "execution_count": 176,
   "metadata": {},
   "outputs": [
    {
     "data": {
      "text/html": [
       "<div>\n",
       "<style scoped>\n",
       "    .dataframe tbody tr th:only-of-type {\n",
       "        vertical-align: middle;\n",
       "    }\n",
       "\n",
       "    .dataframe tbody tr th {\n",
       "        vertical-align: top;\n",
       "    }\n",
       "\n",
       "    .dataframe thead th {\n",
       "        text-align: right;\n",
       "    }\n",
       "</style>\n",
       "<table border=\"1\" class=\"dataframe\">\n",
       "  <thead>\n",
       "    <tr style=\"text-align: right;\">\n",
       "      <th></th>\n",
       "      <th>advanced Liner algebra</th>\n",
       "      <th>statistics</th>\n",
       "      <th>probability</th>\n",
       "      <th>Data analysis</th>\n",
       "      <th>ML</th>\n",
       "    </tr>\n",
       "  </thead>\n",
       "  <tbody>\n",
       "    <tr>\n",
       "      <th>abdessamad</th>\n",
       "      <td>15</td>\n",
       "      <td>16</td>\n",
       "      <td>14</td>\n",
       "      <td>17</td>\n",
       "      <td>13</td>\n",
       "    </tr>\n",
       "    <tr>\n",
       "      <th>taha</th>\n",
       "      <td>14</td>\n",
       "      <td>17</td>\n",
       "      <td>13</td>\n",
       "      <td>16</td>\n",
       "      <td>16</td>\n",
       "    </tr>\n",
       "  </tbody>\n",
       "</table>\n",
       "</div>"
      ],
      "text/plain": [
       "            advanced Liner algebra  statistics  probability  Data analysis  ML\n",
       "abdessamad                      15          16           14             17  13\n",
       "taha                            14          17           13             16  16"
      ]
     },
     "execution_count": 176,
     "metadata": {},
     "output_type": "execute_result"
    }
   ],
   "source": [
    "#let's try to select student that are brilliant in statistics or probability \n",
    "marks[(marks[\"statistics\"]>15) | (marks[\"probability\"]>15)]"
   ]
  },
  {
   "cell_type": "code",
   "execution_count": 191,
   "metadata": {},
   "outputs": [
    {
     "data": {
      "text/html": [
       "<div>\n",
       "<style scoped>\n",
       "    .dataframe tbody tr th:only-of-type {\n",
       "        vertical-align: middle;\n",
       "    }\n",
       "\n",
       "    .dataframe tbody tr th {\n",
       "        vertical-align: top;\n",
       "    }\n",
       "\n",
       "    .dataframe thead th {\n",
       "        text-align: right;\n",
       "    }\n",
       "</style>\n",
       "<table border=\"1\" class=\"dataframe\">\n",
       "  <thead>\n",
       "    <tr style=\"text-align: right;\">\n",
       "      <th></th>\n",
       "      <th>index</th>\n",
       "      <th>advanced Liner algebra</th>\n",
       "      <th>statistics</th>\n",
       "      <th>probability</th>\n",
       "      <th>Data analysis</th>\n",
       "      <th>ML</th>\n",
       "    </tr>\n",
       "  </thead>\n",
       "  <tbody>\n",
       "    <tr>\n",
       "      <th>0</th>\n",
       "      <td>abdessamad</td>\n",
       "      <td>15</td>\n",
       "      <td>16</td>\n",
       "      <td>14</td>\n",
       "      <td>17</td>\n",
       "      <td>13</td>\n",
       "    </tr>\n",
       "    <tr>\n",
       "      <th>1</th>\n",
       "      <td>youssef</td>\n",
       "      <td>12</td>\n",
       "      <td>13</td>\n",
       "      <td>14</td>\n",
       "      <td>12</td>\n",
       "      <td>15</td>\n",
       "    </tr>\n",
       "    <tr>\n",
       "      <th>2</th>\n",
       "      <td>taha</td>\n",
       "      <td>14</td>\n",
       "      <td>17</td>\n",
       "      <td>13</td>\n",
       "      <td>16</td>\n",
       "      <td>16</td>\n",
       "    </tr>\n",
       "    <tr>\n",
       "      <th>3</th>\n",
       "      <td>nabil</td>\n",
       "      <td>14</td>\n",
       "      <td>14</td>\n",
       "      <td>12</td>\n",
       "      <td>16</td>\n",
       "      <td>18</td>\n",
       "    </tr>\n",
       "    <tr>\n",
       "      <th>4</th>\n",
       "      <td>saad</td>\n",
       "      <td>10</td>\n",
       "      <td>11</td>\n",
       "      <td>14</td>\n",
       "      <td>10</td>\n",
       "      <td>13</td>\n",
       "    </tr>\n",
       "  </tbody>\n",
       "</table>\n",
       "</div>"
      ],
      "text/plain": [
       "        index  advanced Liner algebra  statistics  probability  Data analysis  \\\n",
       "0  abdessamad                      15          16           14             17   \n",
       "1     youssef                      12          13           14             12   \n",
       "2        taha                      14          17           13             16   \n",
       "3       nabil                      14          14           12             16   \n",
       "4        saad                      10          11           14             10   \n",
       "\n",
       "   ML  \n",
       "0  13  \n",
       "1  15  \n",
       "2  16  \n",
       "3  18  \n",
       "4  13  "
      ]
     },
     "execution_count": 191,
     "metadata": {},
     "output_type": "execute_result"
    }
   ],
   "source": [
    "#let's look at how we could change our our indexes into a column\n",
    "students_marks = marks.reset_index()\n",
    "students_marks"
   ]
  },
  {
   "cell_type": "code",
   "execution_count": 192,
   "metadata": {},
   "outputs": [
    {
     "data": {
      "text/html": [
       "<div>\n",
       "<style scoped>\n",
       "    .dataframe tbody tr th:only-of-type {\n",
       "        vertical-align: middle;\n",
       "    }\n",
       "\n",
       "    .dataframe tbody tr th {\n",
       "        vertical-align: top;\n",
       "    }\n",
       "\n",
       "    .dataframe thead th {\n",
       "        text-align: right;\n",
       "    }\n",
       "</style>\n",
       "<table border=\"1\" class=\"dataframe\">\n",
       "  <thead>\n",
       "    <tr style=\"text-align: right;\">\n",
       "      <th></th>\n",
       "      <th>students</th>\n",
       "      <th>advanced Liner algebra</th>\n",
       "      <th>statistics</th>\n",
       "      <th>probability</th>\n",
       "      <th>Data analysis</th>\n",
       "      <th>ML</th>\n",
       "    </tr>\n",
       "  </thead>\n",
       "  <tbody>\n",
       "    <tr>\n",
       "      <th>0</th>\n",
       "      <td>abdessamad</td>\n",
       "      <td>15</td>\n",
       "      <td>16</td>\n",
       "      <td>14</td>\n",
       "      <td>17</td>\n",
       "      <td>13</td>\n",
       "    </tr>\n",
       "    <tr>\n",
       "      <th>1</th>\n",
       "      <td>youssef</td>\n",
       "      <td>12</td>\n",
       "      <td>13</td>\n",
       "      <td>14</td>\n",
       "      <td>12</td>\n",
       "      <td>15</td>\n",
       "    </tr>\n",
       "    <tr>\n",
       "      <th>2</th>\n",
       "      <td>taha</td>\n",
       "      <td>14</td>\n",
       "      <td>17</td>\n",
       "      <td>13</td>\n",
       "      <td>16</td>\n",
       "      <td>16</td>\n",
       "    </tr>\n",
       "    <tr>\n",
       "      <th>3</th>\n",
       "      <td>nabil</td>\n",
       "      <td>14</td>\n",
       "      <td>14</td>\n",
       "      <td>12</td>\n",
       "      <td>16</td>\n",
       "      <td>18</td>\n",
       "    </tr>\n",
       "    <tr>\n",
       "      <th>4</th>\n",
       "      <td>saad</td>\n",
       "      <td>10</td>\n",
       "      <td>11</td>\n",
       "      <td>14</td>\n",
       "      <td>10</td>\n",
       "      <td>13</td>\n",
       "    </tr>\n",
       "  </tbody>\n",
       "</table>\n",
       "</div>"
      ],
      "text/plain": [
       "     students  advanced Liner algebra  statistics  probability  Data analysis  \\\n",
       "0  abdessamad                      15          16           14             17   \n",
       "1     youssef                      12          13           14             12   \n",
       "2        taha                      14          17           13             16   \n",
       "3       nabil                      14          14           12             16   \n",
       "4        saad                      10          11           14             10   \n",
       "\n",
       "   ML  \n",
       "0  13  \n",
       "1  15  \n",
       "2  16  \n",
       "3  18  \n",
       "4  13  "
      ]
     },
     "execution_count": 192,
     "metadata": {},
     "output_type": "execute_result"
    }
   ],
   "source": [
    "#let's try to rename that column\n",
    "students_marks.rename(columns={\"index\":\"students\"})"
   ]
  },
  {
   "cell_type": "code",
   "execution_count": 193,
   "metadata": {},
   "outputs": [
    {
     "data": {
      "text/html": [
       "<div>\n",
       "<style scoped>\n",
       "    .dataframe tbody tr th:only-of-type {\n",
       "        vertical-align: middle;\n",
       "    }\n",
       "\n",
       "    .dataframe tbody tr th {\n",
       "        vertical-align: top;\n",
       "    }\n",
       "\n",
       "    .dataframe thead th {\n",
       "        text-align: right;\n",
       "    }\n",
       "</style>\n",
       "<table border=\"1\" class=\"dataframe\">\n",
       "  <thead>\n",
       "    <tr style=\"text-align: right;\">\n",
       "      <th></th>\n",
       "      <th>index</th>\n",
       "      <th>advanced Liner algebra</th>\n",
       "      <th>statistics</th>\n",
       "      <th>probability</th>\n",
       "      <th>Data analysis</th>\n",
       "      <th>ML</th>\n",
       "    </tr>\n",
       "  </thead>\n",
       "  <tbody>\n",
       "    <tr>\n",
       "      <th>A</th>\n",
       "      <td>abdessamad</td>\n",
       "      <td>15</td>\n",
       "      <td>16</td>\n",
       "      <td>14</td>\n",
       "      <td>17</td>\n",
       "      <td>13</td>\n",
       "    </tr>\n",
       "    <tr>\n",
       "      <th>B</th>\n",
       "      <td>youssef</td>\n",
       "      <td>12</td>\n",
       "      <td>13</td>\n",
       "      <td>14</td>\n",
       "      <td>12</td>\n",
       "      <td>15</td>\n",
       "    </tr>\n",
       "    <tr>\n",
       "      <th>C</th>\n",
       "      <td>taha</td>\n",
       "      <td>14</td>\n",
       "      <td>17</td>\n",
       "      <td>13</td>\n",
       "      <td>16</td>\n",
       "      <td>16</td>\n",
       "    </tr>\n",
       "    <tr>\n",
       "      <th>D</th>\n",
       "      <td>nabil</td>\n",
       "      <td>14</td>\n",
       "      <td>14</td>\n",
       "      <td>12</td>\n",
       "      <td>16</td>\n",
       "      <td>18</td>\n",
       "    </tr>\n",
       "    <tr>\n",
       "      <th>E</th>\n",
       "      <td>saad</td>\n",
       "      <td>10</td>\n",
       "      <td>11</td>\n",
       "      <td>14</td>\n",
       "      <td>10</td>\n",
       "      <td>13</td>\n",
       "    </tr>\n",
       "  </tbody>\n",
       "</table>\n",
       "</div>"
      ],
      "text/plain": [
       "        index  advanced Liner algebra  statistics  probability  Data analysis  \\\n",
       "A  abdessamad                      15          16           14             17   \n",
       "B     youssef                      12          13           14             12   \n",
       "C        taha                      14          17           13             16   \n",
       "D       nabil                      14          14           12             16   \n",
       "E        saad                      10          11           14             10   \n",
       "\n",
       "   ML  \n",
       "A  13  \n",
       "B  15  \n",
       "C  16  \n",
       "D  18  \n",
       "E  13  "
      ]
     },
     "execution_count": 193,
     "metadata": {},
     "output_type": "execute_result"
    }
   ],
   "source": [
    "#we can also rename indexes\n",
    "students_marks.rename(index={0:\"A\",1:\"B\",2:\"C\",3:\"D\",4:\"E\"})"
   ]
  },
  {
   "cell_type": "code",
   "execution_count": 194,
   "metadata": {},
   "outputs": [
    {
     "data": {
      "text/html": [
       "<div>\n",
       "<style scoped>\n",
       "    .dataframe tbody tr th:only-of-type {\n",
       "        vertical-align: middle;\n",
       "    }\n",
       "\n",
       "    .dataframe tbody tr th {\n",
       "        vertical-align: top;\n",
       "    }\n",
       "\n",
       "    .dataframe thead th {\n",
       "        text-align: right;\n",
       "    }\n",
       "</style>\n",
       "<table border=\"1\" class=\"dataframe\">\n",
       "  <thead>\n",
       "    <tr style=\"text-align: right;\">\n",
       "      <th></th>\n",
       "      <th>students</th>\n",
       "      <th>advanced Liner algebra</th>\n",
       "      <th>statistics</th>\n",
       "      <th>probability</th>\n",
       "      <th>Data analysis</th>\n",
       "      <th>ML</th>\n",
       "    </tr>\n",
       "  </thead>\n",
       "  <tbody>\n",
       "    <tr>\n",
       "      <th>A</th>\n",
       "      <td>abdessamad</td>\n",
       "      <td>15</td>\n",
       "      <td>16</td>\n",
       "      <td>14</td>\n",
       "      <td>17</td>\n",
       "      <td>13</td>\n",
       "    </tr>\n",
       "    <tr>\n",
       "      <th>B</th>\n",
       "      <td>youssef</td>\n",
       "      <td>12</td>\n",
       "      <td>13</td>\n",
       "      <td>14</td>\n",
       "      <td>12</td>\n",
       "      <td>15</td>\n",
       "    </tr>\n",
       "    <tr>\n",
       "      <th>C</th>\n",
       "      <td>taha</td>\n",
       "      <td>14</td>\n",
       "      <td>17</td>\n",
       "      <td>13</td>\n",
       "      <td>16</td>\n",
       "      <td>16</td>\n",
       "    </tr>\n",
       "    <tr>\n",
       "      <th>D</th>\n",
       "      <td>nabil</td>\n",
       "      <td>14</td>\n",
       "      <td>14</td>\n",
       "      <td>12</td>\n",
       "      <td>16</td>\n",
       "      <td>18</td>\n",
       "    </tr>\n",
       "    <tr>\n",
       "      <th>E</th>\n",
       "      <td>saad</td>\n",
       "      <td>10</td>\n",
       "      <td>11</td>\n",
       "      <td>14</td>\n",
       "      <td>10</td>\n",
       "      <td>13</td>\n",
       "    </tr>\n",
       "  </tbody>\n",
       "</table>\n",
       "</div>"
      ],
      "text/plain": [
       "     students  advanced Liner algebra  statistics  probability  Data analysis  \\\n",
       "A  abdessamad                      15          16           14             17   \n",
       "B     youssef                      12          13           14             12   \n",
       "C        taha                      14          17           13             16   \n",
       "D       nabil                      14          14           12             16   \n",
       "E        saad                      10          11           14             10   \n",
       "\n",
       "   ML  \n",
       "A  13  \n",
       "B  15  \n",
       "C  16  \n",
       "D  18  \n",
       "E  13  "
      ]
     },
     "execution_count": 194,
     "metadata": {},
     "output_type": "execute_result"
    }
   ],
   "source": [
    "#let's try now to rename both rows and columns in the very same line and put inplace=True so that we can keep the changement\n",
    "students_marks.rename(columns={\"index\":\"students\"},index={0:\"A\",1:\"B\",2:\"C\",3:\"D\",4:\"E\"},inplace=True)\n",
    "students_marks"
   ]
  },
  {
   "cell_type": "code",
   "execution_count": 195,
   "metadata": {},
   "outputs": [
    {
     "data": {
      "text/html": [
       "<div>\n",
       "<style scoped>\n",
       "    .dataframe tbody tr th:only-of-type {\n",
       "        vertical-align: middle;\n",
       "    }\n",
       "\n",
       "    .dataframe tbody tr th {\n",
       "        vertical-align: top;\n",
       "    }\n",
       "\n",
       "    .dataframe thead th {\n",
       "        text-align: right;\n",
       "    }\n",
       "</style>\n",
       "<table border=\"1\" class=\"dataframe\">\n",
       "  <thead>\n",
       "    <tr style=\"text-align: right;\">\n",
       "      <th></th>\n",
       "      <th>advanced Liner algebra</th>\n",
       "      <th>statistics</th>\n",
       "      <th>probability</th>\n",
       "      <th>Data analysis</th>\n",
       "      <th>ML</th>\n",
       "    </tr>\n",
       "    <tr>\n",
       "      <th>students</th>\n",
       "      <th></th>\n",
       "      <th></th>\n",
       "      <th></th>\n",
       "      <th></th>\n",
       "      <th></th>\n",
       "    </tr>\n",
       "  </thead>\n",
       "  <tbody>\n",
       "    <tr>\n",
       "      <th>abdessamad</th>\n",
       "      <td>15</td>\n",
       "      <td>16</td>\n",
       "      <td>14</td>\n",
       "      <td>17</td>\n",
       "      <td>13</td>\n",
       "    </tr>\n",
       "    <tr>\n",
       "      <th>youssef</th>\n",
       "      <td>12</td>\n",
       "      <td>13</td>\n",
       "      <td>14</td>\n",
       "      <td>12</td>\n",
       "      <td>15</td>\n",
       "    </tr>\n",
       "    <tr>\n",
       "      <th>taha</th>\n",
       "      <td>14</td>\n",
       "      <td>17</td>\n",
       "      <td>13</td>\n",
       "      <td>16</td>\n",
       "      <td>16</td>\n",
       "    </tr>\n",
       "    <tr>\n",
       "      <th>nabil</th>\n",
       "      <td>14</td>\n",
       "      <td>14</td>\n",
       "      <td>12</td>\n",
       "      <td>16</td>\n",
       "      <td>18</td>\n",
       "    </tr>\n",
       "    <tr>\n",
       "      <th>saad</th>\n",
       "      <td>10</td>\n",
       "      <td>11</td>\n",
       "      <td>14</td>\n",
       "      <td>10</td>\n",
       "      <td>13</td>\n",
       "    </tr>\n",
       "  </tbody>\n",
       "</table>\n",
       "</div>"
      ],
      "text/plain": [
       "            advanced Liner algebra  statistics  probability  Data analysis  ML\n",
       "students                                                                      \n",
       "abdessamad                      15          16           14             17  13\n",
       "youssef                         12          13           14             12  15\n",
       "taha                            14          17           13             16  16\n",
       "nabil                           14          14           12             16  18\n",
       "saad                            10          11           14             10  13"
      ]
     },
     "execution_count": 195,
     "metadata": {},
     "output_type": "execute_result"
    }
   ],
   "source": [
    "#let's see how we could make a column as an index ,the best column in our table suited for indexing is students\n",
    "students_marks.set_index(\"students\",inplace=True)\n",
    "students_marks"
   ]
  },
  {
   "cell_type": "code",
   "execution_count": null,
   "metadata": {},
   "outputs": [],
   "source": []
  }
 ],
 "metadata": {
  "kernelspec": {
   "display_name": "Python 3",
   "language": "python",
   "name": "python3"
  },
  "language_info": {
   "codemirror_mode": {
    "name": "ipython",
    "version": 3
   },
   "file_extension": ".py",
   "mimetype": "text/x-python",
   "name": "python",
   "nbconvert_exporter": "python",
   "pygments_lexer": "ipython3",
   "version": "3.7.6"
  }
 },
 "nbformat": 4,
 "nbformat_minor": 4
}
